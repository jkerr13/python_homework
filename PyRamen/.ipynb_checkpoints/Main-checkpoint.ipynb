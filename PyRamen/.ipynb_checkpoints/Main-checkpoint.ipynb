{
 "cells": [
  {
   "cell_type": "code",
   "execution_count": 12,
   "id": "8c9e8358-cc4b-4309-82d9-26d48003afb6",
   "metadata": {},
   "outputs": [],
   "source": [
    "import csv\n",
    "from pathlib import Path"
   ]
  },
  {
   "cell_type": "code",
   "execution_count": 13,
   "id": "38e289f6-13e6-49cb-a1ee-6de7bcc66845",
   "metadata": {},
   "outputs": [],
   "source": [
    "csvpath_menu = Path(\"/Users/jennmacbookpro/Desktop/FinTechCourse/Week 2 - Python/Unit_2_Homework_Automate/PyRamen/menu_data.csv\")\n",
    "csvpath_sales = Path(\"/Users/jennmacbookpro/Desktop/FinTechCourse/Week 2 - Python/Unit_2_Homework_Automate/PyRamen/sales_data_trimmed.csv\")"
   ]
  },
  {
   "cell_type": "code",
   "execution_count": 19,
   "id": "8fb315e1-879e-47e1-943a-420d43c528b7",
   "metadata": {},
   "outputs": [],
   "source": [
    "# Read the Data\n",
    "# Initialize Lists\n",
    "menu = []\n",
    "sales = []\n",
    "\n",
    "# Open the menu file\n",
    "with open(csvpath_menu, 'r') as csvfile_menu:\n",
    "    csvreader_menu = csv.reader(csvfile_menu, delimiter = ',')\n",
    "    menu_header = next(csvreader_menu)\n",
    "    for row in csvreader_menu:\n",
    "        menu.append(row)\n",
    "\n",
    "# Open the sales file\n",
    "with open(csvpath_sales, 'r') as csvfile_sales:\n",
    "    csvreader_sales = csv.reader(csvfile_sales, delimiter = ',')\n",
    "    sales_header = next(csvreader_sales)\n",
    "    for row in csvreader_sales:\n",
    "        sales.append(row)"
   ]
  },
  {
   "cell_type": "code",
   "execution_count": 20,
   "id": "b9a4485d-d8f7-4e05-a7f0-aaa42e994bf0",
   "metadata": {},
   "outputs": [],
   "source": [
    "# Manipulate the Data\n",
    "# Initialize the Dictionary\n",
    "report = {}"
   ]
  },
  {
   "cell_type": "code",
   "execution_count": 21,
   "id": "78395940-e93f-4e7b-858d-f9bde98c6246",
   "metadata": {},
   "outputs": [
    {
     "ename": "TypeError",
     "evalue": "'set' object is not subscriptable",
     "output_type": "error",
     "traceback": [
      "\u001b[0;31m---------------------------------------------------------------------------\u001b[0m",
      "\u001b[0;31mTypeError\u001b[0m                                 Traceback (most recent call last)",
      "\u001b[0;32m/var/folders/g0/y9ttx8sd7r976z_f0l0m101c0000gn/T/ipykernel_1959/4259260152.py\u001b[0m in \u001b[0;36m<module>\u001b[0;34m\u001b[0m\n\u001b[1;32m     23\u001b[0m \u001b[0;34m\u001b[0m\u001b[0m\n\u001b[1;32m     24\u001b[0m         \u001b[0;32mif\u001b[0m \u001b[0msales_item\u001b[0m \u001b[0;34m==\u001b[0m \u001b[0mitem\u001b[0m\u001b[0;34m:\u001b[0m\u001b[0;34m\u001b[0m\u001b[0;34m\u001b[0m\u001b[0m\n\u001b[0;32m---> 25\u001b[0;31m             \u001b[0mreport\u001b[0m\u001b[0;34m[\u001b[0m\u001b[0msales_item\u001b[0m\u001b[0;34m]\u001b[0m\u001b[0;34m[\u001b[0m\u001b[0;34m\"01 - count\"\u001b[0m\u001b[0;34m]\u001b[0m \u001b[0;34m+=\u001b[0m \u001b[0mquantity\u001b[0m\u001b[0;34m\u001b[0m\u001b[0;34m\u001b[0m\u001b[0m\n\u001b[0m\u001b[1;32m     26\u001b[0m             \u001b[0mreport\u001b[0m\u001b[0;34m[\u001b[0m\u001b[0msales_item\u001b[0m\u001b[0;34m]\u001b[0m\u001b[0;34m[\u001b[0m\u001b[0;34m\"02 - Revenue\"\u001b[0m\u001b[0;34m]\u001b[0m \u001b[0;34m+=\u001b[0m \u001b[0mprice\u001b[0m \u001b[0;34m*\u001b[0m \u001b[0mquantity\u001b[0m\u001b[0;34m\u001b[0m\u001b[0;34m\u001b[0m\u001b[0m\n\u001b[1;32m     27\u001b[0m             \u001b[0mreport\u001b[0m\u001b[0;34m[\u001b[0m\u001b[0msales_item\u001b[0m\u001b[0;34m]\u001b[0m\u001b[0;34m[\u001b[0m\u001b[0;34m\"03 - COGS\"\u001b[0m\u001b[0;34m]\u001b[0m \u001b[0;34m+=\u001b[0m \u001b[0mcost\u001b[0m \u001b[0;34m*\u001b[0m \u001b[0mquantity\u001b[0m\u001b[0;34m\u001b[0m\u001b[0;34m\u001b[0m\u001b[0m\n",
      "\u001b[0;31mTypeError\u001b[0m: 'set' object is not subscriptable"
     ]
    }
   ],
   "source": [
    "# Calculate Quantity of each Menu Item\n",
    "row_count = 0\n",
    "\n",
    "for row_sales in sales:\n",
    "\n",
    "    line_item_id = row_sales[0]\n",
    "    date = row_sales[1]\n",
    "    credit_card = row_sales[2]\n",
    "    quantity = int(row_sales[3])\n",
    "    sales_item = str(row_sales[4])\n",
    "\n",
    "    if sales_item not in report.keys():\n",
    "        report[sales_item] = {\"01 - Count\", \"02 - Revenue\", \"03 - COGS\", \"04 = Profit\"}\n",
    "        \n",
    "    for row_menu in menu:\n",
    "        item = row_menu[0]\n",
    "        category = row_menu[1]\n",
    "        description = row_menu[2]\n",
    "        price = int(row_menu[3])\n",
    "        cost = int(row_menu[4])\n",
    "        \n",
    "        profit = quantity * (price - cost)\n",
    "        \n",
    "        if sales_item == item:\n",
    "            report[sales_item][\"01 - count\"] += quantity\n",
    "            report[sales_item][\"02 - Revenue\"] += price * quantity\n",
    "            report[sales_item][\"03 - COGS\"] += cost * quantity\n",
    "            report[sales_item][\"04 - Profit\"] += profit * quantity\n",
    "        else:\n",
    "            print\n",
    "    "
   ]
  },
  {
   "cell_type": "code",
   "execution_count": null,
   "id": "fab68b03-3da8-47ba-bb31-7c3b08627bf9",
   "metadata": {},
   "outputs": [],
   "source": []
  },
  {
   "cell_type": "code",
   "execution_count": null,
   "id": "f11014d7-27bd-410c-a53f-d3cbc59758a6",
   "metadata": {},
   "outputs": [],
   "source": []
  },
  {
   "cell_type": "code",
   "execution_count": null,
   "id": "a3e3d0a0-5f06-4aea-af63-3d8c2399e1ec",
   "metadata": {},
   "outputs": [],
   "source": []
  },
  {
   "cell_type": "code",
   "execution_count": null,
   "id": "061ecbf4-2cd3-4863-ba63-231fbc32ecf3",
   "metadata": {},
   "outputs": [],
   "source": []
  }
 ],
 "metadata": {
  "kernelspec": {
   "display_name": "dev",
   "language": "python",
   "name": "dev"
  },
  "language_info": {
   "codemirror_mode": {
    "name": "ipython",
    "version": 3
   },
   "file_extension": ".py",
   "mimetype": "text/x-python",
   "name": "python",
   "nbconvert_exporter": "python",
   "pygments_lexer": "ipython3",
   "version": "3.10.4"
  }
 },
 "nbformat": 4,
 "nbformat_minor": 5
}
