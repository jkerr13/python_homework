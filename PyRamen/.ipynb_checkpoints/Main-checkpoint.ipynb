{
 "cells": [
  {
   "cell_type": "code",
   "execution_count": 30,
   "id": "8c9e8358-cc4b-4309-82d9-26d48003afb6",
   "metadata": {},
   "outputs": [],
   "source": [
    "import csv\n",
    "from pathlib import Path"
   ]
  },
  {
   "cell_type": "code",
   "execution_count": 31,
   "id": "38e289f6-13e6-49cb-a1ee-6de7bcc66845",
   "metadata": {},
   "outputs": [],
   "source": [
    "csvpath_menu = Path(\"/Users/jennmacbookpro/Desktop/FinTechCourse/Week 2 - Python/Unit_2_Homework_Automate/PyRamen/menu_data.csv\")\n",
    "csvpath_sales = Path(\"/Users/jennmacbookpro/Desktop/FinTechCourse/Week 2 - Python/Unit_2_Homework_Automate/PyRamen/sales_data.csv\")"
   ]
  },
  {
   "cell_type": "code",
   "execution_count": 32,
   "id": "8fb315e1-879e-47e1-943a-420d43c528b7",
   "metadata": {},
   "outputs": [],
   "source": [
    "# Read the Data\n",
    "# Initialize Lists\n",
    "menu = []\n",
    "sales = []\n",
    "\n",
    "# Open the menu file\n",
    "with open(csvpath_menu, 'r') as csvfile_menu:\n",
    "    csvreader_menu = csv.reader(csvfile_menu, delimiter = ',')\n",
    "    menu_header = next(csvreader_menu)\n",
    "    for row in csvreader_menu:\n",
    "        menu.append(row)\n",
    "\n",
    "# Open the sales file\n",
    "with open(csvpath_sales, 'r') as csvfile_sales:\n",
    "    csvreader_sales = csv.reader(csvfile_sales, delimiter = ',')\n",
    "    sales_header = next(csvreader_sales)\n",
    "    for row in csvreader_sales:\n",
    "        sales.append(row)"
   ]
  },
  {
   "cell_type": "code",
   "execution_count": 76,
   "id": "78395940-e93f-4e7b-858d-f9bde98c6246",
   "metadata": {},
   "outputs": [
    {
     "name": "stdout",
     "output_type": "stream",
     "text": [
      "{'spicy miso ramen': {'01 - Count': 9238, '02 - Revenue': 110856.0, '03 - COGS': 46190, '04 - Profit': 64666.0}, 'tori paitan ramen': {'01 - Count': 9156, '02 - Revenue': 119028.0, '03 - COGS': 54936, '04 - Profit': 64092.0}, 'truffle butter ramen': {'01 - Count': 8982, '02 - Revenue': 125748.0, '03 - COGS': 62874, '04 - Profit': 62874.0}, 'tonkotsu ramen': {'01 - Count': 9288, '02 - Revenue': 120744.0, '03 - COGS': 55728, '04 - Profit': 65016.0}, 'vegetarian spicy miso': {'01 - Count': 9216, '02 - Revenue': 110592.0, '03 - COGS': 46080, '04 - Profit': 64512.0}, 'shio ramen': {'01 - Count': 9180, '02 - Revenue': 100980.0, '03 - COGS': 45900, '04 - Profit': 55080.0}, 'miso crab ramen': {'01 - Count': 8890, '02 - Revenue': 106680.0, '03 - COGS': 53340, '04 - Profit': 53340.0}, 'nagomi shoyu': {'01 - Count': 9132, '02 - Revenue': 100452.0, '03 - COGS': 45660, '04 - Profit': 54792.0}, 'soft-shell miso crab ramen': {'01 - Count': 9130, '02 - Revenue': 127820.0, '03 - COGS': 63910, '04 - Profit': 63910.0}, 'burnt garlic tonkotsu ramen': {'01 - Count': 9070, '02 - Revenue': 126980.0, '03 - COGS': 54420, '04 - Profit': 72560.0}, 'vegetarian curry + king trumpet mushroom ramen': {'01 - Count': 8824, '02 - Revenue': 114712.0, '03 - COGS': 61768, '04 - Profit': 52944.0}}\n"
     ]
    }
   ],
   "source": [
    "# Manipulate the Data\n",
    "# Initialize the Dictionary\n",
    "report = {}\n",
    "\n",
    "for row_sales in sales:\n",
    "\n",
    "    line_item_id = row_sales[0]\n",
    "    date = row_sales[1]\n",
    "    credit_card = row_sales[2]\n",
    "    quantity = int(row_sales[3])\n",
    "    sales_item = str(row_sales[4])\n",
    "    \n",
    "    \n",
    "    if sales_item not in report.keys():\n",
    "        report[sales_item] = {}\n",
    "        report[sales_item] = {\"01 - Count\":0, \"02 - Revenue\":0, \"03 - COGS\":0, \"04 - Profit\":0}\n",
    "     \n",
    "    if sales_item in report.keys():\n",
    "        report[sales_item][\"01 - Count\"] += quantity\n",
    "        \n",
    "        for row_menu in menu:\n",
    "            \n",
    "            menu_item = str(row_menu[0])\n",
    "            category = row_menu[1]\n",
    "            description = row_menu[2]\n",
    "            price = float(row_menu[3])\n",
    "            cost = int(row_menu[4])\n",
    "    \n",
    "            profit = quantity * (price - cost)\n",
    "            \n",
    "            if sales_item == menu_item:\n",
    "                '''quantity = report[sales_item][\"01 - Count\"]'''\n",
    "                report[sales_item][\"02 - Revenue\"] += price * quantity\n",
    "                report[sales_item][\"03 - COGS\"] += cost * quantity\n",
    "                report[sales_item][\"04 - Profit\"] += profit\n",
    "            else:\n",
    "                '''print(f\"{sales_item} does not equal {menu_item}!  NO MATCH\")'''\n",
    "\n",
    "print(report)"
   ]
  },
  {
   "cell_type": "code",
   "execution_count": 77,
   "id": "f11014d7-27bd-410c-a53f-d3cbc59758a6",
   "metadata": {},
   "outputs": [],
   "source": [
    "output_path = Path(\"/Users/jennmacbookpro/Desktop/FinTechCourse/Week 2 - Python/Unit_2_Homework_Automate/PyRamen/report.txt\")"
   ]
  },
  {
   "cell_type": "code",
   "execution_count": 81,
   "id": "a3e3d0a0-5f06-4aea-af63-3d8c2399e1ec",
   "metadata": {},
   "outputs": [],
   "source": [
    "with open(output_path, 'w') as file:\n",
    "    print(report, file = file)"
   ]
  },
  {
   "cell_type": "code",
   "execution_count": null,
   "id": "061ecbf4-2cd3-4863-ba63-231fbc32ecf3",
   "metadata": {},
   "outputs": [],
   "source": []
  }
 ],
 "metadata": {
  "kernelspec": {
   "display_name": "dev",
   "language": "python",
   "name": "dev"
  },
  "language_info": {
   "codemirror_mode": {
    "name": "ipython",
    "version": 3
   },
   "file_extension": ".py",
   "mimetype": "text/x-python",
   "name": "python",
   "nbconvert_exporter": "python",
   "pygments_lexer": "ipython3",
   "version": "3.10.4"
  }
 },
 "nbformat": 4,
 "nbformat_minor": 5
}
