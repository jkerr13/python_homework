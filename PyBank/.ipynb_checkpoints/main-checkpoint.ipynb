{
 "cells": [
  {
   "cell_type": "code",
   "execution_count": 81,
   "id": "2f037ebd-17ac-443f-b75e-162687747391",
   "metadata": {},
   "outputs": [],
   "source": [
    "import csv\n",
    "from pathlib import Path"
   ]
  },
  {
   "cell_type": "code",
   "execution_count": 82,
   "id": "6730d7b4-9e13-4dba-964d-19b363ab4be9",
   "metadata": {},
   "outputs": [],
   "source": [
    "csvpath = Path(\"/Users/jennmacbookpro/Desktop/FinTechCourse/Week 2 - Python/Unit_2_Homework_Automate/PyBank/budget_data.csv\")"
   ]
  },
  {
   "cell_type": "code",
   "execution_count": 83,
   "id": "caa41194-b685-4125-8df0-eeb273787318",
   "metadata": {},
   "outputs": [],
   "source": [
    "# Open the file\n",
    "with open(csvpath, 'r') as csvfile:\n",
    "    csvreader = csv.reader(csvfile, delimiter = ',')\n",
    "    header = next(csvreader)\n",
    "    line_number = 0\n",
    "    profit_loss_values = []\n",
    "    dates = []\n",
    "    for row in csvreader:\n",
    "        profit_loss = int(row[1])\n",
    "        profit_loss_values.append(profit_loss)\n",
    "        date = row[0]\n",
    "        dates.append(date)"
   ]
  },
  {
   "cell_type": "code",
   "execution_count": 84,
   "id": "003763c6-c6cd-42a3-b903-fa4cbd106aeb",
   "metadata": {},
   "outputs": [],
   "source": [
    "# Initialize the variables\n",
    "max_profit_loss = 0\n",
    "min_profit_loss = 0\n",
    "avg_profit_loss = 0\n",
    "total_profit_loss = 0\n",
    "total_months = 0\n",
    "\n",
    "# Calculate the Sum, Months\n",
    "for results in profit_loss_values:\n",
    "    total_profit_loss += results\n",
    "    total_months += 1\n",
    "    \n",
    "# Calculate the Min, Max and Average\n",
    "change = [profit_loss_values[i + 1] - profit_loss_values[i] for i in range(len(profit_loss_values)-1)]\n",
    "\n",
    "max_change = max(change)\n",
    "min_change = min(change)\n",
    "total = sum(change)\n",
    "average = round(total / (total_months-1), 2)\n",
    "\n",
    "# Find the months with the Min and Max Changes\n",
    "max_index = change.index(max_change) + 1\n",
    "min_index = change.index(min_change) + 1\n",
    "max_month = dates[max_index]\n",
    "min_month = dates[min_index]"
   ]
  },
  {
   "cell_type": "code",
   "execution_count": 85,
   "id": "e7a23a90-ebca-4bbc-9e39-9b5341799f5c",
   "metadata": {},
   "outputs": [
    {
     "name": "stdout",
     "output_type": "stream",
     "text": [
      "Financial Analysis \n",
      "----------------------\n",
      "Total Months: 86\n",
      "Total Profit/Loss: $38,382,578\n",
      "Average Change in Profit/Loss: $-2,315.12\n",
      "Greatest Increase in Profits was $1,926,159 in Feb-2012\n",
      "Greatest Decrease in Profits was $-2,196,167 in Sep-2013\n"
     ]
    }
   ],
   "source": [
    "print(\"Financial Analysis \\n----------------------\")\n",
    "print(f\"Total Months: {total_months}\")\n",
    "print(f\"Total Profit/Loss: ${total_profit_loss:,}\")\n",
    "print(f\"Average Change in Profit/Loss: ${average:,}\")\n",
    "print(f\"Greatest Increase in Profits was ${max_change:,} in {max_month}\")\n",
    "print(f\"Greatest Decrease in Profits was ${min_change:,} in {min_month}\")"
   ]
  },
  {
   "cell_type": "code",
   "execution_count": 86,
   "id": "a4b03079-7365-466c-8557-9614e9b1984b",
   "metadata": {},
   "outputs": [],
   "source": [
    "# Set the output file path\n",
    "output_path = Path(\"/Users/jennmacbookpro/Desktop/FinTechCourse/Week 2 - Python/Unit_2_Homework_Automate/PyBank/budget_results.txt\")\n",
    "\n",
    "# Open the file\n",
    "with open(output_path, 'w') as file:\n",
    "    file.write(\"Financial Analysis \\n----------------------\\n\")\n",
    "    file.write(f\"Total Months: {total_months}\\n\")\n",
    "    file.write(f\"Total Profit/Loss: ${total_profit_loss:,}\\n\")\n",
    "    file.write(f\"Average Change in Profit/Loss: ${average:,}\\n\")\n",
    "    file.write(f\"Greatest Increase in Profits was ${max_change:,} in {max_month}\\n\")\n",
    "    file.write(f\"Greatest Decrease in Profits was ${min_change:,} in {min_month}\")"
   ]
  }
 ],
 "metadata": {
  "kernelspec": {
   "display_name": "dev",
   "language": "python",
   "name": "dev"
  },
  "language_info": {
   "codemirror_mode": {
    "name": "ipython",
    "version": 3
   },
   "file_extension": ".py",
   "mimetype": "text/x-python",
   "name": "python",
   "nbconvert_exporter": "python",
   "pygments_lexer": "ipython3",
   "version": "3.10.4"
  }
 },
 "nbformat": 4,
 "nbformat_minor": 5
}
